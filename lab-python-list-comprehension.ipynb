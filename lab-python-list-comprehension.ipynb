{
 "cells": [
  {
   "cell_type": "markdown",
   "id": "25d7736c-ba17-4aff-b6bb-66eba20fbf4e",
   "metadata": {},
   "source": [
    "# Lab | List, Dict and Set Comprehension"
   ]
  },
  {
   "cell_type": "markdown",
   "id": "7dd3cbde-675a-4b81-92c3-f728846dbe06",
   "metadata": {},
   "source": [
    "## Exercise: Managing Customer Orders Optimized with Comprehension"
   ]
  },
  {
   "cell_type": "markdown",
   "id": "5d500160-2fb7-4777-b5e4-09d45ebaf328",
   "metadata": {},
   "source": [
    "In the previous exercise, you developed a program to manage customer orders and inventory. Now, let's take it a step further and incorporate comprehension into your code.\n",
    "\n",
    "Follow the steps below to complete the exercise:\n",
    "\n",
    "1. Review your code from the previous exercise and identify areas where you can apply comprehension to simplify and streamline your code. \n",
    "\n",
    "    - *Hint: Apply it to initialize inventory, updating the inventory and printing the updated inventory.*\n",
    "    \n",
    "    - For example, in initializing the inventory, we could have:\n",
    "    \n",
    "        ```python\n",
    "        def initialize_inventory(products):\n",
    "            inventory = {product: int(input(f\"Enter the quantity of {product}s available: \")) for product in products}\n",
    "            return inventory\n",
    "\n",
    "        ```\n",
    "<br>"
   ]
  },
  {
   "cell_type": "code",
   "execution_count": 50,
   "id": "3b46395c-3849-4c77-bf43-b984923bbb32",
   "metadata": {},
   "outputs": [
    {
     "name": "stdin",
     "output_type": "stream",
     "text": [
      "Enter the quantity of t-shirts avaliable:  100\n",
      "Enter the quantity of mugs avaliable:  50\n",
      "Enter the quantity of hats avaliable:  30\n",
      "Enter the quantity of books avaliable:  90\n",
      "Enter the quantity of keychains avaliable:  20\n"
     ]
    },
    {
     "name": "stdout",
     "output_type": "stream",
     "text": [
      "{'t-shirt': 100, 'mug': 50, 'hat': 30, 'book': 90, 'keychain': 20}\n"
     ]
    }
   ],
   "source": [
    "products = [\"t-shirt\", \"mug\", \"hat\", \"book\", \"keychain\"]\n",
    "\n",
    "# Initialize Inventory\n",
    "def initialize_inventory(products):\n",
    "    inventory = {product: int(input(f\"Enter the quantity of {product}s avaliable: \")) for product in products}\n",
    "    return inventory\n",
    "\n",
    "inventory = initialize_inventory(products)\n",
    "\n",
    "print(inventory)"
   ]
  },
  {
   "cell_type": "markdown",
   "id": "326d434c-c1c5-4805-b43f-0efc9063d254",
   "metadata": {},
   "source": [
    "2. Modify the function get_customer_orders so it prompts the user to enter the number of customer orders and gathers the product names using a loop and user input. Use comprehension."
   ]
  },
  {
   "cell_type": "code",
   "execution_count": 78,
   "id": "349e37f8-9490-4896-8a91-23004b5ec01d",
   "metadata": {},
   "outputs": [
    {
     "name": "stdout",
     "output_type": "stream",
     "text": [
      "These are our products: 't-shirt', 'mug', 'hat', 'book' or 'keychain'\n"
     ]
    },
    {
     "name": "stdin",
     "output_type": "stream",
     "text": [
      "Please enter the name of the product you would like to order:  hat\n",
      "How many hats do you want to order?:   34\n"
     ]
    },
    {
     "name": "stdout",
     "output_type": "stream",
     "text": [
      "product added!\n"
     ]
    },
    {
     "name": "stdin",
     "output_type": "stream",
     "text": [
      "Do you want to continue? Type 'y' for yes, or 'n' for not:  y\n"
     ]
    },
    {
     "name": "stdout",
     "output_type": "stream",
     "text": [
      "These are our products: 't-shirt', 'mug', 'hat', 'book' or 'keychain'\n"
     ]
    },
    {
     "name": "stdin",
     "output_type": "stream",
     "text": [
      "Please enter the name of the product you would like to order:  book\n",
      "How many books do you want to order?:   13\n"
     ]
    },
    {
     "name": "stdout",
     "output_type": "stream",
     "text": [
      "product added!\n"
     ]
    },
    {
     "name": "stdin",
     "output_type": "stream",
     "text": [
      "Do you want to continue? Type 'y' for yes, or 'n' for not:  n\n"
     ]
    },
    {
     "name": "stdout",
     "output_type": "stream",
     "text": [
      "{'hat': 34, 'book': 13}\n"
     ]
    }
   ],
   "source": [
    "def get_customer_orders(products):\n",
    "    customer_order = {}\n",
    "    \n",
    "    while True:\n",
    "        print(\"These are our products: 't-shirt', 'mug', 'hat', 'book' or 'keychain'\")\n",
    "        product = input(\"Please enter the name of the product you would like to order: \").lower()\n",
    "\n",
    "        if product not in products:\n",
    "            print(\"Invalid product name, please try again.\")\n",
    "            continue\n",
    "            \n",
    "        quantity = int(input(f\"How many {product}s do you want to order?:  \"))        \n",
    "\n",
    "        # Update customer_order\n",
    "        if product in customer_order:\n",
    "            customer_order[product] += quantity\n",
    "        else:\n",
    "            customer_order[product] = quantity\n",
    "    \n",
    "        print(\"product added!\")\n",
    "        \n",
    "        answer = input(\"Do you want to continue? Type 'y' for yes, or 'n' for not: \")\n",
    "        if answer == 'n':\n",
    "            break\n",
    "            \n",
    "    return customer_order\n",
    "    \n",
    "order = get_customer_orders(products)\n",
    "print(order)"
   ]
  },
  {
   "cell_type": "markdown",
   "id": "6f5e8a02-1fac-4c60-95f8-506d2e28b26a",
   "metadata": {},
   "source": [
    "3. Add a new function to calculate the total price of the customer order. For each product in customer_orders, prompt the user to enter the price of that product. Use comprehension to calculate the total price. Note: assume that the user can only have 1 unit of each product.\n"
   ]
  },
  {
   "cell_type": "code",
   "execution_count": 80,
   "id": "17a9485f-9cd0-4ba7-8eb0-eaeb372e043d",
   "metadata": {},
   "outputs": [
    {
     "name": "stdin",
     "output_type": "stream",
     "text": [
      "Enter the price per unit for hat:  21\n",
      "Enter the price per unit for book:  40\n"
     ]
    },
    {
     "name": "stdout",
     "output_type": "stream",
     "text": [
      "The total price of the order is 1234\n"
     ]
    }
   ],
   "source": [
    "def calculate_total_price(order):\n",
    "    prices = {product: int(input(f\"Enter the price per unit for {product}: \")) for product in order.keys()}\n",
    "    \n",
    "    total_price = sum(prices[product] * quantity for product, quantity in order.items())\n",
    "    \n",
    "    return total_price\n",
    "\n",
    "total_price = calculate_total_price(order)\n",
    "\n",
    "print(f\"The total price of the order is {total_price}\")\n"
   ]
  },
  {
   "cell_type": "code",
   "execution_count": 69,
   "id": "924c5840-1123-4a91-bc84-9e99ae83bdab",
   "metadata": {},
   "outputs": [
    {
     "name": "stdout",
     "output_type": "stream",
     "text": [
      "Order Statistics:\n",
      "Total Products Ordered: 11\n",
      "Percentage of Unique Products Ordered:: {'book': 7.78, 'hat': 13.33}\n"
     ]
    }
   ],
   "source": [
    "def calculate_order_statistics(order, inventory):\n",
    "    total_products_ordered = sum(order.values())\n",
    "    percentage_products_ordered = {key: round(((order[key]/inventory[key]) * 100), 2) for key in order if key in inventory}\n",
    "    total_products_inventory = sum(inventory.values())\n",
    "    return percentage_products_ordered, total_products_ordered, percentage_products\n",
    "\n",
    "percentage_products_ordered, total_products_ordered, percentage_products = calculate_order_statistics(order, inventory)\n",
    "\n",
    "print(\"Order Statistics:\")\n",
    "print(f\"Total Products Ordered: {total_products_ordered}\")\n",
    "print(f\"Percentage of Unique Products Ordered:: {percentage_products_ordered}\")"
   ]
  },
  {
   "cell_type": "markdown",
   "id": "5f3e1a07-24e4-4ace-8a5b-68ff3369ae3f",
   "metadata": {},
   "source": [
    "4. Modify the update_inventory function to remove the product from the inventory if its quantity becomes zero after fulfilling the customer orders. Use comprehension to filter out the products with a quantity of zero from the inventory."
   ]
  },
  {
   "cell_type": "code",
   "execution_count": 75,
   "id": "f559fdd1-be49-447c-8dac-1f9b3329e00b",
   "metadata": {},
   "outputs": [
    {
     "name": "stdout",
     "output_type": "stream",
     "text": [
      "Updated inventory: {'t-shirt': 100, 'mug': 50, 'hat': 26, 'book': 83, 'keychain': 20}\n"
     ]
    }
   ],
   "source": [
    "def update_inventory(order, inventory):\n",
    "    inventory = {product: inventory[product] - order[product] if product in order else quantity for product, quantity in inventory.items()}\n",
    "\n",
    "    inventory = dict(filter(lambda item: item[1] > 0, inventory.items()))\n",
    "    \n",
    "    return inventory\n",
    "\n",
    "inventory_updated = update_inventory(order, inventory)\n",
    "print(f\"Updated inventory: {inventory_updated}\")"
   ]
  },
  {
   "cell_type": "markdown",
   "id": "4730f394-2941-4fdc-aee1-080c05fc93e5",
   "metadata": {},
   "source": [
    "5. Print the total price of the customer order.\n",
    "\n",
    "Your code should produce output similar to the following:\n",
    "\n",
    "```python\n",
    "Enter the quantity of t-shirts available:  5\n",
    "Enter the quantity of mugs available:  4\n",
    "Enter the quantity of hats available:  3\n",
    "Enter the quantity of books available:  2\n",
    "Enter the quantity of keychains available:  1\n",
    "Enter the number of customer orders:  2\n",
    "Enter the name of a product that a customer wants to order:  hat\n",
    "Enter the name of a product that a customer wants to order:  keychain\n",
    "\n",
    "Order Statistics:\n",
    "Total Products Ordered: 2\n",
    "Percentage of Unique Products Ordered: 40.0\n",
    "\n",
    "Updated Inventory:\n",
    "t-shirt: 5\n",
    "mug: 4\n",
    "hat: 2\n",
    "book: 2\n",
    "Enter the price of keychain:  5\n",
    "Enter the price of hat:  10\n",
    "Total Price: 15.0\n",
    "\n",
    "```"
   ]
  },
  {
   "cell_type": "code",
   "execution_count": null,
   "id": "4bbacd49-ee49-490d-b54c-0889d7e92d74",
   "metadata": {},
   "outputs": [],
   "source": []
  }
 ],
 "metadata": {
  "kernelspec": {
   "display_name": "Python 3 (ipykernel)",
   "language": "python",
   "name": "python3"
  },
  "language_info": {
   "codemirror_mode": {
    "name": "ipython",
    "version": 3
   },
   "file_extension": ".py",
   "mimetype": "text/x-python",
   "name": "python",
   "nbconvert_exporter": "python",
   "pygments_lexer": "ipython3",
   "version": "3.12.4"
  }
 },
 "nbformat": 4,
 "nbformat_minor": 5
}
